{
 "cells": [
  {
   "cell_type": "markdown",
   "metadata": {
    "ExecuteTime": {
     "end_time": "2020-04-20T22:29:48.670715Z",
     "start_time": "2020-04-20T22:29:48.668318Z"
    }
   },
   "source": [
    "# Setting up PySpark"
   ]
  },
  {
   "cell_type": "code",
   "execution_count": 5,
   "metadata": {
    "ExecuteTime": {
     "end_time": "2020-04-20T22:29:52.303257Z",
     "start_time": "2020-04-20T22:29:52.299186Z"
    }
   },
   "outputs": [],
   "source": [
    "import findspark\n",
    "import os\n",
    "findspark.init('C:/Users/Onkar/Documents/Spark/spark-2.4.5-bin-hadoop2.7')"
   ]
  },
  {
   "cell_type": "code",
   "execution_count": 2,
   "metadata": {
    "ExecuteTime": {
     "end_time": "2020-04-20T22:29:27.655766Z",
     "start_time": "2020-04-20T22:29:27.503040Z"
    }
   },
   "outputs": [],
   "source": [
    "import pyspark # only run after findspark.init()\n",
    "from pyspark.sql import SparkSession\n",
    "os.environ[\"JAVA_HOME\"] = \"C:\\Program Files\\Java\\jdk-9.0.4\""
   ]
  },
  {
   "cell_type": "markdown",
   "metadata": {},
   "source": [
    "# Connecting to the Google Cloud's MySQL Server"
   ]
  },
  {
   "cell_type": "code",
   "execution_count": 10,
   "metadata": {
    "ExecuteTime": {
     "end_time": "2020-04-20T22:46:16.615270Z",
     "start_time": "2020-04-20T22:46:16.412364Z"
    }
   },
   "outputs": [],
   "source": [
    "import pymysql\n",
    "connection = pymysql.connect(host='34.73.158.139',\n",
    "                             port=int(3306),\n",
    "                             user='root',\n",
    "                             password='spark2020!s',\n",
    "                             db='sentiment')"
   ]
  },
  {
   "cell_type": "code",
   "execution_count": 11,
   "metadata": {
    "ExecuteTime": {
     "end_time": "2020-04-20T22:46:27.535798Z",
     "start_time": "2020-04-20T22:46:26.879926Z"
    }
   },
   "outputs": [],
   "source": [
    "mycursor = connection.cursor()\n",
    "mycursor.execute(\"SELECT * FROM tweets\")\n",
    "myresult = mycursor.fetchall()"
   ]
  },
  {
   "cell_type": "markdown",
   "metadata": {},
   "source": [
    "# Creating Schema"
   ]
  },
  {
   "cell_type": "code",
   "execution_count": 25,
   "metadata": {
    "ExecuteTime": {
     "end_time": "2020-04-20T23:01:22.231111Z",
     "start_time": "2020-04-20T23:01:22.226241Z"
    }
   },
   "outputs": [],
   "source": [
    "from pyspark.sql.types import StructType,StructField,StringType,DateType,IntegerType\n",
    "from pyspark import SparkContext\n",
    "import pyspark.sql "
   ]
  },
  {
   "cell_type": "code",
   "execution_count": 17,
   "metadata": {
    "ExecuteTime": {
     "end_time": "2020-04-20T22:50:00.229847Z",
     "start_time": "2020-04-20T22:49:59.831611Z"
    }
   },
   "outputs": [],
   "source": [
    "spark = SparkSession.builder.getOrCreate()"
   ]
  },
  {
   "cell_type": "code",
   "execution_count": 44,
   "metadata": {
    "ExecuteTime": {
     "end_time": "2020-04-21T02:06:39.683873Z",
     "start_time": "2020-04-21T02:06:39.670534Z"
    }
   },
   "outputs": [],
   "source": [
    "# Define schema\n",
    "schema = StructType([\n",
    "    StructField(\"id\", StringType(), True),\n",
    "    StructField(\"permalink\", StringType(), True),\n",
    "    StructField(\"username\", StringType(), True),\n",
    "    StructField(\"tweet_text\", StringType(), True),\n",
    "    StructField(\"date\", DateType(), True),\n",
    "    StructField(\"retweets\", IntegerType(), True), \n",
    "    StructField(\"favorites\", IntegerType(), True), \n",
    "    StructField(\"tv_series\", StringType(), True), \n",
    "    StructField(\"sentiment\", IntegerType(), True), \n",
    "    StructField(\"season\", IntegerType(), True) \n",
    "])"
   ]
  },
  {
   "cell_type": "code",
   "execution_count": 45,
   "metadata": {
    "ExecuteTime": {
     "end_time": "2020-04-21T02:06:45.618653Z",
     "start_time": "2020-04-21T02:06:45.286124Z"
    }
   },
   "outputs": [],
   "source": [
    "df = spark.createDataFrame(myresult, schema)"
   ]
  },
  {
   "cell_type": "markdown",
   "metadata": {},
   "source": [
    "# Basic Analysis\n",
    "\n",
    "SparkSQL and DataFrames are used to do data analysis.  <Br>\n",
    "    \n",
    "Some basic metrics:\n",
    "- Total Tweets\n",
    "- Total Days\n",
    "- Total Users \n",
    "\n",
    "Advanced metrics: \n",
    "These metrics are used to asses popularity of the show \n",
    "\n",
    "- Tweets per day, series\n",
    "- Average favorites \n",
    "- Average Retweets \n",
    "    \n",
    "Furthermore, we check which is the most retweeted tweet and most liked tweets for each show"
   ]
  },
  {
   "cell_type": "markdown",
   "metadata": {},
   "source": [
    "## SparkSql"
   ]
  },
  {
   "cell_type": "markdown",
   "metadata": {},
   "source": [
    "Create a temporary table "
   ]
  },
  {
   "cell_type": "code",
   "execution_count": 242,
   "metadata": {
    "ExecuteTime": {
     "end_time": "2020-04-21T15:46:07.732216Z",
     "start_time": "2020-04-21T15:46:07.696098Z"
    }
   },
   "outputs": [
    {
     "data": {
      "text/plain": [
       "DataFrame[]"
      ]
     },
     "execution_count": 242,
     "metadata": {},
     "output_type": "execute_result"
    }
   ],
   "source": [
    "spark.sql(\"Drop table if exists temp\")"
   ]
  },
  {
   "cell_type": "code",
   "execution_count": 243,
   "metadata": {
    "ExecuteTime": {
     "end_time": "2020-04-21T15:46:10.702688Z",
     "start_time": "2020-04-21T15:46:10.659444Z"
    }
   },
   "outputs": [],
   "source": [
    "df.createTempView(\"temp\")"
   ]
  },
  {
   "cell_type": "code",
   "execution_count": 244,
   "metadata": {
    "ExecuteTime": {
     "end_time": "2020-04-21T15:46:12.722629Z",
     "start_time": "2020-04-21T15:46:12.376748Z"
    }
   },
   "outputs": [
    {
     "data": {
      "text/plain": [
       "[Table(name='temp', database=None, description=None, tableType='TEMPORARY', isTemporary=True)]"
      ]
     },
     "execution_count": 244,
     "metadata": {},
     "output_type": "execute_result"
    }
   ],
   "source": [
    "spark.catalog.listTables()"
   ]
  },
  {
   "cell_type": "markdown",
   "metadata": {},
   "source": [
    "### Show records"
   ]
  },
  {
   "cell_type": "code",
   "execution_count": 50,
   "metadata": {
    "ExecuteTime": {
     "end_time": "2020-04-21T02:18:16.936084Z",
     "start_time": "2020-04-21T02:18:08.977823Z"
    }
   },
   "outputs": [
    {
     "name": "stdout",
     "output_type": "stream",
     "text": [
      "+----------+--------------------+---------------+--------------------+----------+--------+---------+-----------+---------+------+\n",
      "|        id|           permalink|       username|          tweet_text|      date|retweets|favorites|  tv_series|sentiment|season|\n",
      "+----------+--------------------+---------------+--------------------+----------+--------+---------+-----------+---------+------+\n",
      "|2147483647|https://twitter.com/|     desstiny31|money heist was r...|2020-04-04|       0|        0|Money Heist|        1|     4|\n",
      "|2147483647|https://twitter.com/|northsidemozart|Yh so far money h...|2020-04-04|       0|        1|Money Heist|        1|     4|\n",
      "|2147483647|https://twitter.com/|     simshadyyy|dudeeee money hei...|2020-04-04|       0|        0|Money Heist|        1|     4|\n",
      "|2147483647|https://twitter.com/|   barbiana____|i’m only on seaso...|2020-04-04|       0|        0|Money Heist|        1|     4|\n",
      "|2147483647|https://twitter.com/|   ThatGuyNath_|I’m bored of ever...|2020-04-04|       0|        0|Money Heist|        1|     4|\n",
      "+----------+--------------------+---------------+--------------------+----------+--------+---------+-----------+---------+------+\n",
      "\n"
     ]
    }
   ],
   "source": [
    "spark.sql(\"Select * from temp limit 5\").show()"
   ]
  },
  {
   "cell_type": "markdown",
   "metadata": {},
   "source": [
    "### Total Tweets"
   ]
  },
  {
   "cell_type": "code",
   "execution_count": 247,
   "metadata": {
    "ExecuteTime": {
     "end_time": "2020-04-21T15:49:37.779123Z",
     "start_time": "2020-04-21T15:49:29.279005Z"
    }
   },
   "outputs": [
    {
     "name": "stdout",
     "output_type": "stream",
     "text": [
      "+--------+\n",
      "|count(1)|\n",
      "+--------+\n",
      "|   14000|\n",
      "+--------+\n",
      "\n"
     ]
    }
   ],
   "source": [
    "spark.sql(\"Select count(*) from temp\").show()"
   ]
  },
  {
   "cell_type": "markdown",
   "metadata": {},
   "source": [
    "There are 140,000 Tweets "
   ]
  },
  {
   "cell_type": "markdown",
   "metadata": {},
   "source": [
    "### Total Days "
   ]
  },
  {
   "cell_type": "code",
   "execution_count": 248,
   "metadata": {
    "ExecuteTime": {
     "end_time": "2020-04-21T15:50:32.240464Z",
     "start_time": "2020-04-21T15:50:22.769129Z"
    }
   },
   "outputs": [
    {
     "name": "stdout",
     "output_type": "stream",
     "text": [
      "+--------------------+\n",
      "|count(DISTINCT date)|\n",
      "+--------------------+\n",
      "|                   7|\n",
      "+--------------------+\n",
      "\n"
     ]
    }
   ],
   "source": [
    "spark.sql(\"Select count(distinct date) from temp\").show()"
   ]
  },
  {
   "cell_type": "markdown",
   "metadata": {},
   "source": [
    "We have 7 days of data "
   ]
  },
  {
   "cell_type": "markdown",
   "metadata": {},
   "source": [
    "### Total Users"
   ]
  },
  {
   "cell_type": "code",
   "execution_count": 249,
   "metadata": {
    "ExecuteTime": {
     "end_time": "2020-04-21T15:51:31.084493Z",
     "start_time": "2020-04-21T15:51:21.170860Z"
    }
   },
   "outputs": [
    {
     "name": "stdout",
     "output_type": "stream",
     "text": [
      "+------------------------+\n",
      "|count(DISTINCT username)|\n",
      "+------------------------+\n",
      "|                   13018|\n",
      "+------------------------+\n",
      "\n"
     ]
    }
   ],
   "source": [
    "spark.sql(\"Select count(distinct username) from temp\").show()"
   ]
  },
  {
   "cell_type": "markdown",
   "metadata": {
    "ExecuteTime": {
     "end_time": "2020-04-21T15:51:55.298162Z",
     "start_time": "2020-04-21T15:51:55.289945Z"
    }
   },
   "source": [
    "13,018 Users have tweeted "
   ]
  },
  {
   "cell_type": "markdown",
   "metadata": {},
   "source": [
    "## DataFrame"
   ]
  },
  {
   "cell_type": "markdown",
   "metadata": {},
   "source": [
    "### Most liked tweets"
   ]
  },
  {
   "cell_type": "code",
   "execution_count": 251,
   "metadata": {
    "ExecuteTime": {
     "end_time": "2020-04-21T15:52:19.831804Z",
     "start_time": "2020-04-21T15:52:09.745167Z"
    }
   },
   "outputs": [],
   "source": [
    "most_liked = df.groupby(\"tv_series\").agg({\"favorites\":\"max\"}).collect()"
   ]
  },
  {
   "cell_type": "code",
   "execution_count": 252,
   "metadata": {
    "ExecuteTime": {
     "end_time": "2020-04-21T15:52:28.641966Z",
     "start_time": "2020-04-21T15:52:19.833798Z"
    }
   },
   "outputs": [],
   "source": [
    "Most_liked_MH = df.select(\"tweet_text\").filter(df.tv_series == \"Money Heist\").filter(df.favorites == most_liked[0][1]).collect()"
   ]
  },
  {
   "cell_type": "code",
   "execution_count": 253,
   "metadata": {
    "ExecuteTime": {
     "end_time": "2020-04-21T15:52:28.653783Z",
     "start_time": "2020-04-21T15:52:28.646467Z"
    }
   },
   "outputs": [
    {
     "data": {
      "text/plain": [
       "'Okay guys Let’s settle this once and for all. Retweet For Game of Thrones Like f'"
      ]
     },
     "execution_count": 253,
     "metadata": {},
     "output_type": "execute_result"
    }
   ],
   "source": [
    "Most_liked_MH[0][0]"
   ]
  },
  {
   "cell_type": "code",
   "execution_count": 254,
   "metadata": {
    "ExecuteTime": {
     "end_time": "2020-04-21T15:52:37.614573Z",
     "start_time": "2020-04-21T15:52:28.656469Z"
    }
   },
   "outputs": [],
   "source": [
    "Most_liked_TG = df.select(\"tweet_text\").filter(df.tv_series == \"Tiger King\").filter(df.favorites == most_liked[1][1]).collect()"
   ]
  },
  {
   "cell_type": "code",
   "execution_count": 255,
   "metadata": {
    "ExecuteTime": {
     "end_time": "2020-04-21T15:52:37.625611Z",
     "start_time": "2020-04-21T15:52:37.618205Z"
    }
   },
   "outputs": [
    {
     "data": {
      "text/plain": [
       "'This Tiger King show y’all was hyping up.... it’s giving me hillbilly honey boo '"
      ]
     },
     "execution_count": 255,
     "metadata": {},
     "output_type": "execute_result"
    }
   ],
   "source": [
    "Most_liked_TG[0][0]"
   ]
  },
  {
   "cell_type": "markdown",
   "metadata": {},
   "source": [
    "### Most Retweeted tweets"
   ]
  },
  {
   "cell_type": "code",
   "execution_count": 86,
   "metadata": {
    "ExecuteTime": {
     "end_time": "2020-04-21T03:11:13.632057Z",
     "start_time": "2020-04-21T03:11:04.875503Z"
    }
   },
   "outputs": [],
   "source": [
    "most_retweeted = df.groupby(\"tv_series\").agg({\"retweets\":\"max\"}).collect()"
   ]
  },
  {
   "cell_type": "code",
   "execution_count": 87,
   "metadata": {
    "ExecuteTime": {
     "end_time": "2020-04-21T03:11:49.398259Z",
     "start_time": "2020-04-21T03:11:40.925139Z"
    }
   },
   "outputs": [],
   "source": [
    "Most_retweeted_MH = df.select(\"tweet_text\").filter(df.tv_series == \"Money Heist\").filter(df.retweets == most_retweeted[0][1]).collect()"
   ]
  },
  {
   "cell_type": "code",
   "execution_count": 89,
   "metadata": {
    "ExecuteTime": {
     "end_time": "2020-04-21T03:12:36.838031Z",
     "start_time": "2020-04-21T03:12:36.827951Z"
    }
   },
   "outputs": [
    {
     "data": {
      "text/plain": [
       "'I want this bitch dead in the very first episode of Season 4 !!!!!! #MoneyHeist4'"
      ]
     },
     "execution_count": 89,
     "metadata": {},
     "output_type": "execute_result"
    }
   ],
   "source": [
    "Most_retweeted_MH[0][0]"
   ]
  },
  {
   "cell_type": "code",
   "execution_count": 94,
   "metadata": {
    "ExecuteTime": {
     "end_time": "2020-04-21T03:13:27.837839Z",
     "start_time": "2020-04-21T03:13:18.968928Z"
    }
   },
   "outputs": [],
   "source": [
    "Most_retweeted_TG = df.select(\"tweet_text\").filter(df.tv_series == \"Tiger King\").filter(df.retweets == most_retweeted[1][1]).collect()"
   ]
  },
  {
   "cell_type": "code",
   "execution_count": 95,
   "metadata": {
    "ExecuteTime": {
     "end_time": "2020-04-21T03:13:27.845590Z",
     "start_time": "2020-04-21T03:13:27.840604Z"
    }
   },
   "outputs": [
    {
     "data": {
      "text/plain": [
       "'This Tiger King show y’all was hyping up.... it’s giving me hillbilly honey boo '"
      ]
     },
     "execution_count": 95,
     "metadata": {},
     "output_type": "execute_result"
    }
   ],
   "source": [
    "Most_retweeted_TG[0][0]"
   ]
  },
  {
   "cell_type": "markdown",
   "metadata": {},
   "source": [
    "### Tweets per day by series"
   ]
  },
  {
   "cell_type": "code",
   "execution_count": 257,
   "metadata": {
    "ExecuteTime": {
     "end_time": "2020-04-21T15:57:08.002408Z",
     "start_time": "2020-04-21T15:56:58.183474Z"
    }
   },
   "outputs": [
    {
     "name": "stdout",
     "output_type": "stream",
     "text": [
      "+-----------+----------+---------+\n",
      "|  tv_series|      date|count(id)|\n",
      "+-----------+----------+---------+\n",
      "| Tiger King|2020-04-02|     1000|\n",
      "| Tiger King|2020-03-31|     1000|\n",
      "| Tiger King|2020-04-01|     1000|\n",
      "|Money Heist|2020-04-02|     1000|\n",
      "|Money Heist|2020-03-31|     1000|\n",
      "|Money Heist|2020-04-03|     1000|\n",
      "| Tiger King|2020-04-03|     1000|\n",
      "| Tiger King|2020-03-30|     1000|\n",
      "|Money Heist|2020-03-29|     1000|\n",
      "|Money Heist|2020-03-30|     1000|\n",
      "| Tiger King|2020-04-04|     1000|\n",
      "| Tiger King|2020-03-29|     1000|\n",
      "|Money Heist|2020-04-01|     1000|\n",
      "|Money Heist|2020-04-04|     1000|\n",
      "+-----------+----------+---------+\n",
      "\n"
     ]
    }
   ],
   "source": [
    "df.groupby('tv_series', 'date').agg({'id': 'count'}).show()"
   ]
  },
  {
   "cell_type": "markdown",
   "metadata": {},
   "source": [
    "We have exactly 1000 tweets per day for each show"
   ]
  },
  {
   "cell_type": "markdown",
   "metadata": {},
   "source": [
    "### Average likes and retweets "
   ]
  },
  {
   "cell_type": "code",
   "execution_count": 97,
   "metadata": {
    "ExecuteTime": {
     "end_time": "2020-04-21T03:15:00.403365Z",
     "start_time": "2020-04-21T03:14:51.408753Z"
    }
   },
   "outputs": [
    {
     "name": "stdout",
     "output_type": "stream",
     "text": [
      "+-----------+-----------------+------------------+\n",
      "|  tv_series|   avg(favorites)|     avg(retweets)|\n",
      "+-----------+-----------------+------------------+\n",
      "|Money Heist|4.318142857142857|0.7142857142857143|\n",
      "| Tiger King|7.783571428571428|0.8718571428571429|\n",
      "+-----------+-----------------+------------------+\n",
      "\n"
     ]
    }
   ],
   "source": [
    "df.groupby('tv_series').agg({'retweets': 'average','favorites':'average'}).show()"
   ]
  },
  {
   "cell_type": "markdown",
   "metadata": {},
   "source": [
    "We observer Tiger King's tweets are more popular on both metrics"
   ]
  },
  {
   "cell_type": "markdown",
   "metadata": {},
   "source": [
    "# Advanced Analysis\n",
    "\n",
    "Task:\n",
    "- Visualizing data\n",
    "- Data cleaning\n",
    "- Sentiment Analysis using TextBlob"
   ]
  },
  {
   "cell_type": "code",
   "execution_count": 145,
   "metadata": {
    "ExecuteTime": {
     "end_time": "2020-04-21T05:05:30.060251Z",
     "start_time": "2020-04-21T05:05:30.050005Z"
    }
   },
   "outputs": [],
   "source": [
    "import numpy as np\n",
    "import pandas as pd\n",
    "import nltk \n",
    "from nltk.corpus import movie_reviews\n",
    "from nltk import WordNetLemmatizer\n",
    "from nltk import PorterStemmer\n",
    "from nltk.corpus import stopwords\n",
    "import seaborn as sns\n",
    "from textblob import TextBlob\n",
    "from matplotlib import pyplot as plt"
   ]
  },
  {
   "cell_type": "code",
   "execution_count": 98,
   "metadata": {
    "ExecuteTime": {
     "end_time": "2020-04-21T03:25:07.695214Z",
     "start_time": "2020-04-21T03:24:58.480724Z"
    }
   },
   "outputs": [],
   "source": [
    "tweets_df = df.toPandas()"
   ]
  },
  {
   "cell_type": "code",
   "execution_count": 111,
   "metadata": {
    "ExecuteTime": {
     "end_time": "2020-04-21T03:59:05.978564Z",
     "start_time": "2020-04-21T03:59:05.943854Z"
    }
   },
   "outputs": [
    {
     "data": {
      "text/html": [
       "<div>\n",
       "<style scoped>\n",
       "    .dataframe tbody tr th:only-of-type {\n",
       "        vertical-align: middle;\n",
       "    }\n",
       "\n",
       "    .dataframe tbody tr th {\n",
       "        vertical-align: top;\n",
       "    }\n",
       "\n",
       "    .dataframe thead th {\n",
       "        text-align: right;\n",
       "    }\n",
       "</style>\n",
       "<table border=\"1\" class=\"dataframe\">\n",
       "  <thead>\n",
       "    <tr style=\"text-align: right;\">\n",
       "      <th></th>\n",
       "      <th>id</th>\n",
       "      <th>permalink</th>\n",
       "      <th>username</th>\n",
       "      <th>tweet_text</th>\n",
       "      <th>date</th>\n",
       "      <th>retweets</th>\n",
       "      <th>favorites</th>\n",
       "      <th>tv_series</th>\n",
       "      <th>sentiment</th>\n",
       "      <th>season</th>\n",
       "    </tr>\n",
       "  </thead>\n",
       "  <tbody>\n",
       "    <tr>\n",
       "      <th>0</th>\n",
       "      <td>2147483647</td>\n",
       "      <td>https://twitter.com/</td>\n",
       "      <td>desstiny31</td>\n",
       "      <td>money heist was rlly fucking w me I love her</td>\n",
       "      <td>2020-04-04</td>\n",
       "      <td>0</td>\n",
       "      <td>0</td>\n",
       "      <td>Money Heist</td>\n",
       "      <td>1</td>\n",
       "      <td>4</td>\n",
       "    </tr>\n",
       "    <tr>\n",
       "      <th>1</th>\n",
       "      <td>2147483647</td>\n",
       "      <td>https://twitter.com/</td>\n",
       "      <td>northsidemozart</td>\n",
       "      <td>Yh so far money heist is coldddd</td>\n",
       "      <td>2020-04-04</td>\n",
       "      <td>0</td>\n",
       "      <td>1</td>\n",
       "      <td>Money Heist</td>\n",
       "      <td>1</td>\n",
       "      <td>4</td>\n",
       "    </tr>\n",
       "    <tr>\n",
       "      <th>2</th>\n",
       "      <td>2147483647</td>\n",
       "      <td>https://twitter.com/</td>\n",
       "      <td>simshadyyy</td>\n",
       "      <td>dudeeee money heist is so GOOOODDD whoa.</td>\n",
       "      <td>2020-04-04</td>\n",
       "      <td>0</td>\n",
       "      <td>0</td>\n",
       "      <td>Money Heist</td>\n",
       "      <td>1</td>\n",
       "      <td>4</td>\n",
       "    </tr>\n",
       "    <tr>\n",
       "      <th>3</th>\n",
       "      <td>2147483647</td>\n",
       "      <td>https://twitter.com/</td>\n",
       "      <td>barbiana____</td>\n",
       "      <td>i’m only on season 1 but money heist good AF</td>\n",
       "      <td>2020-04-04</td>\n",
       "      <td>0</td>\n",
       "      <td>0</td>\n",
       "      <td>Money Heist</td>\n",
       "      <td>1</td>\n",
       "      <td>4</td>\n",
       "    </tr>\n",
       "    <tr>\n",
       "      <th>4</th>\n",
       "      <td>2147483647</td>\n",
       "      <td>https://twitter.com/</td>\n",
       "      <td>ThatGuyNath_</td>\n",
       "      <td>I’m bored of everything rn fackkk don’t wanna ...</td>\n",
       "      <td>2020-04-04</td>\n",
       "      <td>0</td>\n",
       "      <td>0</td>\n",
       "      <td>Money Heist</td>\n",
       "      <td>1</td>\n",
       "      <td>4</td>\n",
       "    </tr>\n",
       "  </tbody>\n",
       "</table>\n",
       "</div>"
      ],
      "text/plain": [
       "           id             permalink         username  \\\n",
       "0  2147483647  https://twitter.com/       desstiny31   \n",
       "1  2147483647  https://twitter.com/  northsidemozart   \n",
       "2  2147483647  https://twitter.com/       simshadyyy   \n",
       "3  2147483647  https://twitter.com/     barbiana____   \n",
       "4  2147483647  https://twitter.com/     ThatGuyNath_   \n",
       "\n",
       "                                          tweet_text        date  retweets  \\\n",
       "0      money heist was rlly fucking w me I love her   2020-04-04         0   \n",
       "1                   Yh so far money heist is coldddd  2020-04-04         0   \n",
       "2           dudeeee money heist is so GOOOODDD whoa.  2020-04-04         0   \n",
       "3       i’m only on season 1 but money heist good AF  2020-04-04         0   \n",
       "4  I’m bored of everything rn fackkk don’t wanna ...  2020-04-04         0   \n",
       "\n",
       "   favorites    tv_series  sentiment  season  \n",
       "0          0  Money Heist          1       4  \n",
       "1          1  Money Heist          1       4  \n",
       "2          0  Money Heist          1       4  \n",
       "3          0  Money Heist          1       4  \n",
       "4          0  Money Heist          1       4  "
      ]
     },
     "execution_count": 111,
     "metadata": {},
     "output_type": "execute_result"
    }
   ],
   "source": [
    "tweets_df.head()"
   ]
  },
  {
   "cell_type": "markdown",
   "metadata": {
    "ExecuteTime": {
     "end_time": "2020-04-21T04:00:07.228228Z",
     "start_time": "2020-04-21T04:00:07.220219Z"
    }
   },
   "source": [
    "## Distribution of tweet size"
   ]
  },
  {
   "cell_type": "markdown",
   "metadata": {},
   "source": [
    "Characters' distribution "
   ]
  },
  {
   "cell_type": "code",
   "execution_count": 128,
   "metadata": {
    "ExecuteTime": {
     "end_time": "2020-04-21T04:17:51.695420Z",
     "start_time": "2020-04-21T04:17:51.373846Z"
    }
   },
   "outputs": [
    {
     "data": {
      "image/png": "[encoded data removed]",
      "text/plain": [
       "<Figure size 576x360 with 1 Axes>"
      ]
     },
     "metadata": {
      "needs_background": "light"
     },
     "output_type": "display_data"
    }
   ],
   "source": [
    "plt.figure(figsize  = (8,5))\n",
    "ax = sns.distplot(tweets_df[\"tweet_text\"].apply(len))\n",
    "ax.set_title(\"Distribution of total characters\")\n",
    "ax.set_xlabel(\"Tweets in characeters\")\n",
    "ax.set_ylabel(\"Proportion of Tweets\");"
   ]
  },
  {
   "cell_type": "markdown",
   "metadata": {},
   "source": [
    "Tokens distribution "
   ]
  },
  {
   "cell_type": "code",
   "execution_count": 123,
   "metadata": {
    "ExecuteTime": {
     "end_time": "2020-04-21T04:14:01.446328Z",
     "start_time": "2020-04-21T04:13:57.248529Z"
    }
   },
   "outputs": [],
   "source": [
    "tokens = tweets_df[\"tweet_text\"].apply(nltk.word_tokenize)"
   ]
  },
  {
   "cell_type": "code",
   "execution_count": 130,
   "metadata": {
    "ExecuteTime": {
     "end_time": "2020-04-21T04:18:32.898623Z",
     "start_time": "2020-04-21T04:18:32.465061Z"
    }
   },
   "outputs": [
    {
     "data": {
      "image/png": "[encoded data removed]",
      "text/plain": [
       "<Figure size 576x360 with 1 Axes>"
      ]
     },
     "metadata": {
      "needs_background": "light"
     },
     "output_type": "display_data"
    }
   ],
   "source": [
    "plt.figure(figsize  = (8,5))\n",
    "ax = sns.distplot(tokens.apply(len))\n",
    "ax.set_title(\"Distribution of tokens (words)\")\n",
    "ax.set_xlabel(\"Tweets in tokens\")\n",
    "ax.set_ylabel(\"Proportion of Tweets\");"
   ]
  },
  {
   "cell_type": "markdown",
   "metadata": {},
   "source": [
    "## Cleaning the Tweets"
   ]
  },
  {
   "cell_type": "code",
   "execution_count": 143,
   "metadata": {
    "ExecuteTime": {
     "end_time": "2020-04-21T05:03:40.308716Z",
     "start_time": "2020-04-21T05:02:21.366754Z"
    }
   },
   "outputs": [],
   "source": [
    "tokens_clean = tokens.apply(lambda tweet: [t for t in tweet if ((t not in stopwords.words(\"english\")) and (t.isalpha() and len(t)>2))]) "
   ]
  },
  {
   "cell_type": "code",
   "execution_count": 153,
   "metadata": {
    "ExecuteTime": {
     "end_time": "2020-04-21T05:10:37.107246Z",
     "start_time": "2020-04-21T05:10:37.092344Z"
    }
   },
   "outputs": [],
   "source": [
    "tweets_df[\"tweet_clean\"] = tokens_clean.apply(\" \".join)"
   ]
  },
  {
   "cell_type": "markdown",
   "metadata": {},
   "source": [
    "## Sentiment Analysis using TextBlob"
   ]
  },
  {
   "cell_type": "code",
   "execution_count": 167,
   "metadata": {
    "ExecuteTime": {
     "end_time": "2020-04-21T05:16:22.243273Z",
     "start_time": "2020-04-21T05:16:17.753777Z"
    }
   },
   "outputs": [],
   "source": [
    "tweets_df[\"polarity\"] = tweets_df[\"tweet_clean\"].apply(lambda tweet:TextBlob(tweet).sentiment.polarity)"
   ]
  },
  {
   "cell_type": "markdown",
   "metadata": {},
   "source": [
    "### Example of postive tweets "
   ]
  },
  {
   "cell_type": "code",
   "execution_count": 178,
   "metadata": {
    "ExecuteTime": {
     "end_time": "2020-04-21T05:20:14.361429Z",
     "start_time": "2020-04-21T05:20:14.354922Z"
    }
   },
   "outputs": [],
   "source": [
    "Positive_tweets = list(tweets_df.loc[tweets_df[\"polarity\"] > 0.8, \"tweet_text\"])"
   ]
  },
  {
   "cell_type": "code",
   "execution_count": 200,
   "metadata": {
    "ExecuteTime": {
     "end_time": "2020-04-21T05:33:54.348433Z",
     "start_time": "2020-04-21T05:33:54.338633Z"
    }
   },
   "outputs": [
    {
     "data": {
      "text/plain": [
       "['This season of money heist was the best one by farrrrrr',\n",
       " '#MoneyHeist is probably the best series to come to Netflix, ever. #LeCasaDePapel',\n",
       " 'Money Heist is the best show on Netflix don’t @me.',\n",
       " 'Money Heist is the best show on Netflix. fight me',\n",
       " '#MoneyHeistPart4 is freaking awesome.... you did a great job #netflix #moneyheis',\n",
       " 'money heist is the best show to ever exist',\n",
       " 'Money heist is actually incredible.',\n",
       " 'Ay Money Heist this season is hotter than me on my best day',\n",
       " 'money heist is the best thing on netflix ',\n",
       " 'money heist best series made hands down ']"
      ]
     },
     "execution_count": 200,
     "metadata": {},
     "output_type": "execute_result"
    }
   ],
   "source": [
    "Positive_tweets[0:10]"
   ]
  },
  {
   "cell_type": "markdown",
   "metadata": {
    "ExecuteTime": {
     "end_time": "2020-04-21T05:20:52.313322Z",
     "start_time": "2020-04-21T05:20:52.305486Z"
    }
   },
   "source": [
    "These Tweets are indeed very positive "
   ]
  },
  {
   "cell_type": "markdown",
   "metadata": {
    "ExecuteTime": {
     "end_time": "2020-04-21T05:21:13.765451Z",
     "start_time": "2020-04-21T05:21:13.757353Z"
    }
   },
   "source": [
    "### Example of negative tweets"
   ]
  },
  {
   "cell_type": "code",
   "execution_count": 183,
   "metadata": {
    "ExecuteTime": {
     "end_time": "2020-04-21T05:21:55.393826Z",
     "start_time": "2020-04-21T05:21:55.390322Z"
    }
   },
   "outputs": [],
   "source": [
    "Negative_tweets = list(tweets_df.loc[tweets_df[\"polarity\"] < -0.8, \"tweet_text\"])"
   ]
  },
  {
   "cell_type": "code",
   "execution_count": 199,
   "metadata": {
    "ExecuteTime": {
     "end_time": "2020-04-21T05:33:50.303927Z",
     "start_time": "2020-04-21T05:33:50.295685Z"
    }
   },
   "outputs": [
    {
     "data": {
      "text/plain": [
       "['Money Heist is sly boring to me ',\n",
       " 'Money heist season 4 episode 1 is insane',\n",
       " 'Nvm, this is god awful boring. I’m bout to start Money Heist',\n",
       " '#MoneyHeist is boring. There i said it. I said what everyone is thinking #MoneyH',\n",
       " 'this season of money heist was so boring omg',\n",
       " 'Very annoying... How would I watch money heist like this',\n",
       " 'If you find money heist boring then you need to check your temperature',\n",
       " \"Money Heist was terrible, like I just don't get the hype.. will continue BrBa fo\",\n",
       " 'I WATCHED MONEY HEIST AND I FUCKING HATE IT you pathetic burgers just to get in ',\n",
       " 'So Today I downloaded money heist season 1, 2 and 3 Cox Twitter is boring, I jus']"
      ]
     },
     "execution_count": 199,
     "metadata": {},
     "output_type": "execute_result"
    }
   ],
   "source": [
    "Negative_tweets[0:10]"
   ]
  },
  {
   "cell_type": "markdown",
   "metadata": {},
   "source": [
    "Some people find the Money Heist show boring"
   ]
  },
  {
   "cell_type": "markdown",
   "metadata": {},
   "source": [
    "### Overall sentiment of both shows"
   ]
  },
  {
   "cell_type": "code",
   "execution_count": 220,
   "metadata": {
    "ExecuteTime": {
     "end_time": "2020-04-21T05:43:18.912107Z",
     "start_time": "2020-04-21T05:43:18.904272Z"
    }
   },
   "outputs": [],
   "source": [
    "def set_sentiment(x):\n",
    "    if x > 0:\n",
    "        return \"positive\"\n",
    "    elif x < 0:\n",
    "        return \"negative\"\n",
    "    else:\n",
    "        return \"neutral\""
   ]
  },
  {
   "cell_type": "code",
   "execution_count": 221,
   "metadata": {
    "ExecuteTime": {
     "end_time": "2020-04-21T05:43:19.952732Z",
     "start_time": "2020-04-21T05:43:19.937552Z"
    }
   },
   "outputs": [],
   "source": [
    "tweets_df[\"sentiment\"] = tweets_df[\"polarity\"].apply(set_sentiment)"
   ]
  },
  {
   "cell_type": "code",
   "execution_count": 239,
   "metadata": {
    "ExecuteTime": {
     "end_time": "2020-04-21T15:36:56.878723Z",
     "start_time": "2020-04-21T15:36:56.038206Z"
    }
   },
   "outputs": [
    {
     "data": {
      "image/png": "[encoded data removed]",
      "text/plain": [
       "<Figure size 1080x360 with 2 Axes>"
      ]
     },
     "metadata": {
      "needs_background": "light"
     },
     "output_type": "display_data"
    }
   ],
   "source": [
    "fig, ax = plt.subplots(1,2, figsize = (15,5))\n",
    "sns.countplot(tweets_df.loc[tweets_df[\"tv_series\"]==\"Money Heist\", \"sentiment\"], ax = ax[0],  palette=[\"blue\", \"green\", \"red\"], order = tweets_df[\"sentiment\"].value_counts().index)\n",
    "ax[0].set_title(\"Distribution of Sentiments for Money Heist\")\n",
    "sns.countplot(tweets_df.loc[tweets_df[\"tv_series\"]==\"Tiger King\", \"sentiment\"], ax = ax[1], palette=[\"blue\", \"green\", \"red\"],  order = tweets_df[\"sentiment\"].value_counts().index)\n",
    "ax[1].set_title(\"Distribution of Sentiments for Tiger King\");"
   ]
  },
  {
   "cell_type": "markdown",
   "metadata": {
    "ExecuteTime": {
     "end_time": "2020-04-21T05:34:15.657143Z",
     "start_time": "2020-04-21T05:34:15.645300Z"
    }
   },
   "source": [
    "- Most tweets on both the series seems neutral\n",
    "- More positive sentiments than negative for both the shows "
   ]
  },
  {
   "cell_type": "markdown",
   "metadata": {},
   "source": [
    "# Future Scope\n",
    "\n",
    "- More advanced pre-processing techniques  \n",
    "- Modeling the sentiments using word embedding approach\n",
    "- Acquiring more data for better analysis"
   ]
  }
 ],
 "metadata": {
  "kernelspec": {
   "display_name": "Python 3",
   "language": "python",
   "name": "python3"
  },
  "language_info": {
   "codemirror_mode": {
    "name": "ipython",
    "version": 3
   },
   "file_extension": ".py",
   "mimetype": "text/x-python",
   "name": "python",
   "nbconvert_exporter": "python",
   "pygments_lexer": "ipython3",
   "version": "3.7.3"
  },
  "toc": {
   "base_numbering": 1,
   "nav_menu": {},
   "number_sections": true,
   "sideBar": true,
   "skip_h1_title": false,
   "title_cell": "Table of Contents",
   "title_sidebar": "Contents",
   "toc_cell": false,
   "toc_position": {},
   "toc_section_display": true,
   "toc_window_display": false
  }
 },
 "nbformat": 4,
 "nbformat_minor": 2
}
